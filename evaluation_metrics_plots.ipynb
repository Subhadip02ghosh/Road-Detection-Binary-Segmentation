{
  "nbformat": 4,
  "nbformat_minor": 0,
  "metadata": {
    "colab": {
      "provenance": []
    },
    "kernelspec": {
      "name": "python3",
      "display_name": "Python 3"
    },
    "language_info": {
      "name": "python"
    }
  },
  "cells": [
    {
      "cell_type": "code",
      "execution_count": 1,
      "metadata": {
        "colab": {
          "base_uri": "https://localhost:8080/"
        },
        "id": "b_07nron_ZYh",
        "outputId": "1c5cd842-0de7-45b3-b4d8-d2fc7e7d3975"
      },
      "outputs": [
        {
          "output_type": "stream",
          "name": "stdout",
          "text": [
            "Mounted at /content/drive\n"
          ]
        }
      ],
      "source": [
        "from google.colab import drive\n",
        "drive.mount('/content/drive')"
      ]
    },
    {
      "cell_type": "code",
      "source": [
        "# Importing libraries\n",
        "import pandas as pd\n",
        "import matplotlib.pyplot as plt\n",
        "import numpy as np"
      ],
      "metadata": {
        "id": "JSENlhbo_iru"
      },
      "execution_count": 3,
      "outputs": []
    },
    {
      "cell_type": "markdown",
      "source": [
        "# **Evaluation Plots**"
      ],
      "metadata": {
        "id": "kL7RfUAU_mam"
      }
    },
    {
      "cell_type": "code",
      "source": [
        "res = \"ResNet-50\"\n",
        "model = \"ResNet-101\"\n",
        "# model = \"Swin-T\"\n",
        "model = \"SegNet\"\n",
        "\n",
        "# Alivia's Paths\n",
        "# evaluation_metrics_path = f\"/content/drive/MyDrive/Final Year Project/8th Sem/Loss Plots/Results/{model}/Evaluation.txt\"\n",
        "\n",
        "# Dibyarup's Paths\n",
        "res50_path = f\"/content/drive/MyDrive/8th Sem BTech/0) Final Yr. Project - 8th Sem/Model and Loss/Results/ResNet-50/Evaluation.txt\"\n",
        "res101_path = f\"/content/drive/MyDrive/8th Sem BTech/0) Final Yr. Project - 8th Sem/Model and Loss/Results/ResNet-101/Evaluation.txt\"\n",
        "swint_path = f\"/content/drive/MyDrive/8th Sem BTech/0) Final Yr. Project - 8th Sem/Model and Loss/Results/Swin-T/Evaluation.txt\"\n",
        "segnet_path = f\"/content/drive/MyDrive/8th Sem BTech/0) Final Yr. Project - 8th Sem/Model and Loss/Results/SegNet/Evaluation.txt\""
      ],
      "metadata": {
        "id": "ngJPzlSr_jru"
      },
      "execution_count": 8,
      "outputs": []
    },
    {
      "cell_type": "code",
      "source": [
        "pd.set_option('display.float_format', '{:.14f}'.format)\n",
        "\n",
        "res50_metrics = pd.read_csv(res50_path, delimiter=\": \", names=[\"Evaluation_Metric\",\"Value\"])\n",
        "res101_metrics = pd.read_csv(res101_path, delimiter=\": \", names=[\"Evaluation_Metric\",\"Value\"])\n",
        "# swint_metrics = pd.read_csv(swint_path, delimiter=\": \", names=[\"Evaluation_Metric\",\"Value\"])\n",
        "segnet_metrics = pd.read_csv(segnet_path, delimiter=\": \", names=[\"Evaluation_Metric\",\"Value\"])"
      ],
      "metadata": {
        "colab": {
          "base_uri": "https://localhost:8080/"
        },
        "id": "F_rFbYlVAQaf",
        "outputId": "5e8d267f-ba2a-47fb-880f-2b1dc707dc7d"
      },
      "execution_count": 9,
      "outputs": [
        {
          "output_type": "stream",
          "name": "stderr",
          "text": [
            "<ipython-input-9-f8ec83e1c304>:3: ParserWarning: Falling back to the 'python' engine because the 'c' engine does not support regex separators (separators > 1 char and different from '\\s+' are interpreted as regex); you can avoid this warning by specifying engine='python'.\n",
            "  res50_metrics = pd.read_csv(res50_path, delimiter=\": \", names=[\"Evaluation_Metric\",\"Value\"])\n",
            "<ipython-input-9-f8ec83e1c304>:4: ParserWarning: Falling back to the 'python' engine because the 'c' engine does not support regex separators (separators > 1 char and different from '\\s+' are interpreted as regex); you can avoid this warning by specifying engine='python'.\n",
            "  res101_metrics = pd.read_csv(res101_path, delimiter=\": \", names=[\"Evaluation_Metric\",\"Value\"])\n",
            "<ipython-input-9-f8ec83e1c304>:6: ParserWarning: Falling back to the 'python' engine because the 'c' engine does not support regex separators (separators > 1 char and different from '\\s+' are interpreted as regex); you can avoid this warning by specifying engine='python'.\n",
            "  segnet_metrics = pd.read_csv(segnet_path, delimiter=\": \", names=[\"Evaluation_Metric\",\"Value\"])\n"
          ]
        }
      ]
    },
    {
      "cell_type": "code",
      "source": [
        "# Extract values into lists\n",
        "res50_values = res50_metrics.set_index('Evaluation_Metric')['Value'].to_dict()\n",
        "res101_values = res101_metrics.set_index('Evaluation_Metric')['Value'].to_dict()\n",
        "# swint_metrics = swint_metrics.set_index('Evaluation_Metric')['Value'].to_dict()\n",
        "segnet_values = segnet_metrics.set_index('Evaluation_Metric')['Value'].to_dict()\n",
        "\n",
        "# Create the new dataframe\n",
        "evaluation_metrics = pd.DataFrame({\n",
        "    # 'Model': ['ResNet-50', 'ResNet-101', 'Swin-T', 'SegNet'],\n",
        "    'Model': ['ResNet-50', 'ResNet-101', 'SegNet'],\n",
        "    'Time Taken': [res50_values['Time taken'], res101_values['Time taken'], segnet_values['Time taken']],\n",
        "    'MSE': [res50_values['MSE'], res101_values['MSE'], segnet_values['MSE']],\n",
        "    'SSIM': [res50_values['SSIM'], res101_values['SSIM'], segnet_values['SSIM']],\n",
        "    'Accuracy': [res50_values['Accuracy'], res101_values['Accuracy'], segnet_values['Accuracy']],\n",
        "    'Recall': [res50_values['Recall'], res101_values['Recall'], segnet_values['Recall']],\n",
        "    'Precision': [res50_values['Precision'], res101_values['Precision'], segnet_values['Precision']],\n",
        "    'F1 Score': [res50_values['F1 Score'], res101_values['F1 Score'], segnet_values['F1 Score']]\n",
        "})\n",
        "\n",
        "evaluation_metrics"
      ],
      "metadata": {
        "colab": {
          "base_uri": "https://localhost:8080/"
        },
        "id": "UAxzESMLBklZ",
        "outputId": "7ab17833-2a3d-4402-f4c7-eb4815852486"
      },
      "execution_count": 14,
      "outputs": [
        {
          "output_type": "stream",
          "name": "stdout",
          "text": [
            "        Model       Time Taken              MSE             SSIM  \\\n",
            "0   ResNet-50 0.01804933578837 0.02621390856802 0.45896074175835   \n",
            "1  ResNet-101 0.02754566314537 0.02484901249409 0.42245692014694   \n",
            "2      SegNet 0.00663023666271 0.02783468551934 0.33640849590302   \n",
            "\n",
            "          Accuracy           Recall        Precision         F1 Score  \n",
            "0 0.97378611564636 0.45138573550542 0.48842012341834 0.46917318314795  \n",
            "1 0.97515100240707 0.40426841939152 0.52045578399750 0.45506284713992  \n",
            "2 0.97216492891312 0.27105189697466 0.43729954369799 0.33466679765512  \n"
          ]
        }
      ]
    },
    {
      "cell_type": "code",
      "source": [
        "# Plotting\n",
        "plt.figure(figsize=(16.8, 10.0))\n",
        "# plt.plot(evaluation_metrics['Epoch_No'], df_train['Loss'], color='blue', label='Training Loss')\n",
        "\n",
        "# # Scaling\n",
        "# plt.xticks(range(0, 301, 5), rotation=90)\n",
        "# plt.ylim(0, 1.1, 0.000000001)\n",
        "\n",
        "# # Adding Title and Labels\n",
        "# # plt.title(f\"Loss Curve for RoadSegNN ({model} Backbone)\", color='purple', fontsize=18) # RoadSegNN\n",
        "# plt.title(f\"Loss Curve for {model}\", color='purple', fontsize=18) # SegNet\n",
        "# plt.xlabel('Epoch Number', fontsize=14)\n",
        "# plt.ylabel('Loss', fontsize=14)\n",
        "# plt.legend(fontsize='large')\n",
        "# plt.show()\n",
        "\n",
        "\n",
        "# Plotting the stacked bar graph\n",
        "fig, ax = plt.subplots()\n",
        "\n",
        "# Define the positions for the bars on the x-axis\n",
        "bar_width = 0.5\n",
        "index = evaluation_metrics['Model']\n",
        "\n",
        "# Stacking the bars\n",
        "ax.bar(index, evaluation_metrics['MSE'], bar_width, label='MSE')\n",
        "ax.bar(index, evaluation_metrics['SSIM'], bar_width, bottom=evaluation_metrics['MSE'], label='SSIM')\n",
        "ax.bar(index, evaluation_metrics['Accuracy'], bar_width,bottom=evaluation_metrics['MSE'] + evaluation_metrics['SSIM'], label='Accuracy')\n",
        "ax.bar(index, evaluation_metrics['Recall'], bar_width,bottom=evaluation_metrics['MSE'] + evaluation_metrics['SSIM'] + evaluation_metrics['Accuracy'], label='Recall')\n",
        "ax.bar(index, evaluation_metrics['Precision'], bar_width,bottom=evaluation_metrics['MSE'] + evaluation_metrics['SSIM'] + evaluation_metrics['Accuracy'] + evaluation_metrics['Recall'], label='Recall')\n",
        "ax.bar(index, evaluation_metrics['F1 Score'], bar_width,bottom=evaluation_metrics['MSE'] + evaluation_metrics['SSIM'] + evaluation_metrics['Accuracy'] + evaluation_metrics['Recall'] + evaluation_metrics['Precision'], label='F1 Score')\n",
        "\n",
        "\n",
        "\n",
        "# Adding labels and title\n",
        "ax.set_title('Evaluation Metrics by Model')\n",
        "ax.set_xlabel('Model')\n",
        "ax.set_ylabel('Scores')\n",
        "\n",
        "# plt.legend(fontsize='large')\n",
        "plt.show()"
      ],
      "metadata": {
        "colab": {
          "base_uri": "https://localhost:8080/",
          "height": 489
        },
        "id": "llDReyWgMyQh",
        "outputId": "12c1bdaa-ff40-4e02-bf71-118cd733ce24"
      },
      "execution_count": 19,
      "outputs": [
        {
          "output_type": "display_data",
          "data": {
            "text/plain": [
              "<Figure size 1680x1000 with 0 Axes>"
            ]
          },
          "metadata": {}
        },
        {
          "output_type": "display_data",
          "data": {
            "text/plain": [
              "<Figure size 640x480 with 1 Axes>"
            ],
            "image/png": "[encoded data removed]"
          },
          "metadata": {}
        }
      ]
    }
  ]
}